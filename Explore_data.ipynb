{
 "cells": [
  {
   "cell_type": "code",
   "execution_count": 50,
   "id": "b0b81ae6",
   "metadata": {},
   "outputs": [
    {
     "name": "stderr",
     "output_type": "stream",
     "text": [
      "/var/folders/m6/29dmlndn6fq4qjsjj9238fy00000gn/T/ipykernel_21938/3246079201.py:42: DeprecationWarning: The truth value of an empty array is ambiguous. Returning False, but in future this will result in an error. Use `array.size > 0` to check that an array is not empty.\n",
      "  if np.where(Z)[0]>0:\n"
     ]
    }
   ],
   "source": [
    "# Import relevant packages and data\n",
    "\n",
    "#make students do: conda env create -f frontiers_in.yml\n",
    "# and activate conda env create -f environment.yml \n",
    "\n",
    "# Packages\n",
    "!pip install openpyxl\n",
    "import pandas as pd\n",
    "import matplotlib.pyplot as plt\n",
    "import numpy as np\n",
    "from scipy import stats\n",
    "import seaborn as sns\n",
    "import geopandas\n",
    "import ipywidgets as widgets\n",
    "%matplotlib inline\n",
    "\n",
    "# CAMELS data\n",
    "hydro = pd.read_csv('data/camels_hydro.txt', sep=\";\", header=0)\n",
    "geo = pd.read_csv('data/camels_geol.txt', sep=\";\", header=0)\n",
    "clim = pd.read_csv('data/camels_clim.txt', sep=\";\", header=0)\n",
    "soil = pd.read_csv('data/camels_soil.txt', sep=\";\", header=0)\n",
    "veg = pd.read_csv('data/camels_vege.txt', sep=\";\", header=0)\n",
    "topo = pd.read_csv('data/camels_topo.txt', sep=\";\", header=0)\n",
    "name =  pd.read_csv('data/camels_name.txt', sep=\";\", header=0)\n",
    "HCDN = pd.read_excel('Sheds_EcoRegions2_TAC_NDVI_ET.xlsx')\n",
    "\n",
    "\n",
    "### INTERMEZZOO\n",
    "\n",
    "new_index = np.empty((len(hydro),1,))\n",
    "frame_to_be_merged = pd.DataFrame(np.empty((len(hydro),20,)))  \n",
    "\n",
    "frame_to_be_merged.columns = [\"SiteID\", \"Lat\", \"Lon\", \"EcoID\", \"EcoRegion2\", \n",
    "                             \"Beta\", \"ET_Age\", \"TAC_NDVI_16\", \"TAC_NDVI_32\", \"TAC_NDVI_64\",\n",
    "                             \"TAC_NDVI_126\", \"TAC_NDVI_365\", \"TAC_ET_1\", \"TAC_ET_4\", \"TAC_ET_8\", \"TAC_ET_16\",\n",
    "                             \"TAC_ET_32\", \"TAC_ET_64\", \"TAC_ET_126\", \"TAC_ET_365\"]\n",
    "\n",
    "\n",
    "G = (hydro[\"gauge_id\"])\n",
    "\n",
    "for i in range(0, len(hydro)):\n",
    "    Z=(HCDN.SiteID==G[i])\n",
    "    if np.where(Z)[0]>0:\n",
    "        k = int(np.where(Z)[0])\n",
    "        new_index[i]= int(np.array(k))\n",
    "    else:\n",
    "        new_index[i]=np.NaN  \n",
    " \n",
    "\n",
    "for i in range(0, len(hydro)):\n",
    "    if new_index[i]>0:\n",
    "        frame_to_be_merged.iloc[i] =HCDN.iloc[new_index[i]]\n",
    "    else:\n",
    "        k = pd.DataFrame(np.empty((1,20,)))\n",
    "        k[:] = np.nan\n",
    "        frame_to_be_merged.iloc[i] = k\n",
    "        \n",
    "frames = [hydro,soil, topo, clim, veg,frame_to_be_merged]\n",
    "\n",
    "merged = pd.concat([hydro,soil, topo, clim, veg,frame_to_be_merged], axis=1)\n",
    "\n",
    "###\n",
    "\n",
    "#frames = [hydro,soil, topo, clim, veg,frame_to_be_merged]\n",
    "\n",
    "#merged = pd.concat([hydro,soil, topo, clim, veg,frame_to_be_merged], axis=1)\n",
    "\n",
    "hydro.reset_index(drop=True, inplace=True)\n",
    "soil.reset_index(drop=True, inplace=True)\n",
    "topo.reset_index(drop=True, inplace=True)\n",
    "clim.reset_index(drop=True, inplace=True)\n",
    "veg.reset_index(drop=True, inplace=True)\n",
    "frame_to_be_merged.reset_index(drop=True, inplace=True)\n",
    "\n",
    "\n",
    "\n",
    "del merged['gauge_id']\n",
    "\n",
    "# load shapefile USA\n",
    "states = geopandas.read_file('shapefiles/usa-states-census-2014.shp')\n",
    "\n",
    "plt.rcParams[\"figure.figsize\"] = (12, 7)"
   ]
  },
  {
   "cell_type": "code",
   "execution_count": 51,
   "id": "0edd3bca",
   "metadata": {},
   "outputs": [
    {
     "data": {
      "application/vnd.jupyter.widget-view+json": {
       "model_id": "7e72f2f5ccea4bf0870987c44bcf56ea",
       "version_major": 2,
       "version_minor": 0
      },
      "text/plain": [
       "interactive(children=(Dropdown(description='variable', options=('q_mean', 'runoff_ratio', 'slope_fdc', 'basefl…"
      ]
     },
     "metadata": {},
     "output_type": "display_data"
    },
    {
     "data": {
      "text/plain": [
       "<function __main__.run_histogram(variable, bin_count)>"
      ]
     },
     "execution_count": 51,
     "metadata": {},
     "output_type": "execute_result"
    }
   ],
   "source": [
    "## A histogram that allows you to pick which variable you want to display and the number of bins\n",
    "\n",
    "def run_histogram(variable,bin_count):\n",
    "    \n",
    "    ## Python example\n",
    "    X = merged[variable]\n",
    "    fig = plt.figure(figsize =(5, 3))\n",
    "     # Creating axes instance\n",
    "    ax = fig.add_axes([0, 0, 1, 1])\n",
    "    # Creating plot\n",
    "    plt.hist(X, bins=bin_count, alpha=0.5)\n",
    "    # adding labels\n",
    "    ax.set_xlabel(variable)\n",
    "    ax.set_ylabel('Count')\n",
    "    print(X.describe())\n",
    "    plt.show()\n",
    "    \n",
    "widgets.interact(run_histogram,variable = merged, bin_count=(1,50,1))"
   ]
  },
  {
   "cell_type": "code",
   "execution_count": 52,
   "id": "7c8d8180",
   "metadata": {},
   "outputs": [
    {
     "data": {
      "application/vnd.jupyter.widget-view+json": {
       "model_id": "b15d046dd2b84e28873cba78f76ed6f3",
       "version_major": 2,
       "version_minor": 0
      },
      "text/plain": [
       "interactive(children=(Dropdown(description='variable_x', options=('q_mean', 'runoff_ratio', 'slope_fdc', 'base…"
      ]
     },
     "metadata": {},
     "output_type": "display_data"
    },
    {
     "data": {
      "text/plain": [
       "<function __main__.run_scatter(variable_x, variable_y, variable_z, log_x_on, log_y_on, polyfit)>"
      ]
     },
     "execution_count": 52,
     "metadata": {},
     "output_type": "execute_result"
    }
   ],
   "source": [
    "## Scatterplots\n",
    "\n",
    "def run_scatter(variable_x,variable_y,variable_z,log_x_on,log_y_on,polyfit):\n",
    "\n",
    "    ## Python example\n",
    "    X = merged[variable_x]\n",
    "    Y = merged[variable_y]\n",
    "    Z = merged[variable_z]\n",
    "\n",
    "    fig = plt.figure(figsize =(5, 3))\n",
    "    \n",
    "    # Creating axes instance\n",
    "    cm=plt.get_cmap('jet') # picks color based on these options: \n",
    "    #https://matplotlib.org/stable/tutorials/colors/colormaps.html \n",
    "    \n",
    "    ax = fig.add_axes([0, 0, 1, 1])\n",
    "    \n",
    "    print(min(Z))\n",
    "    # Creating plot\n",
    "    sc = plt.scatter(X, Y,c=Z,  vmin=min(Z), vmax=max(Z),s=10, cmap=cm)\n",
    "    \n",
    "    # adding labels\n",
    "    ax.set_xlabel(variable_x)\n",
    "    ax.set_ylabel(variable_y)\n",
    "    cbar = plt.colorbar(sc)\n",
    "    cbar.set_label(variable_z, rotation=270)\n",
    "\n",
    "    new_X = X[np.logical_not(np.isnan(X*Y))]\n",
    "    new_Y = Y[np.logical_not(np.isnan(X*Y))]\n",
    "\n",
    "    #show plot\n",
    "    linear_model=np.polyfit(new_X,new_Y,polyfit)\n",
    "    linear_model_fn=np.poly1d(linear_model)\n",
    "    x_s=np.arange(min(X),max(X),(max(X)-min(X))*0.0001)\n",
    "    plt.plot(x_s,linear_model_fn(x_s),color=\"green\")\n",
    "    print(linear_model_fn)\n",
    "    if log_x_on ==\"Yes\": \n",
    "        plt.xscale(\"log\")\n",
    "        \n",
    "    if log_y_on ==\"Yes\": \n",
    "        plt.yscale(\"log\")\n",
    "        \n",
    "    plt.show()\n",
    "    \n",
    "    print('spearman')\n",
    "    print(stats.spearmanr(new_X,new_Y))\n",
    "    print('pearson')\n",
    "    print(stats.pearsonr(new_X,new_Y))\n",
    "    \n",
    "widgets.interact(run_scatter,variable_x = merged,\n",
    "                             variable_y = merged,\n",
    "                             variable_z = merged,\n",
    "                             log_x_on = [\"No\",\"Yes\"],\n",
    "                             log_y_on = [\"No\",\"Yes\"],\n",
    "                             polyfit = [1, 2, 3, 4, 5, 6, 7, 8])\n",
    "\n"
   ]
  },
  {
   "cell_type": "code",
   "execution_count": 53,
   "id": "65a4b058",
   "metadata": {
    "scrolled": true
   },
   "outputs": [
    {
     "data": {
      "application/vnd.jupyter.widget-view+json": {
       "model_id": "bb33b35f919248d9be3e123462e25737",
       "version_major": 2,
       "version_minor": 0
      },
      "text/plain": [
       "interactive(children=(Dropdown(description='variable', options=('q_mean', 'runoff_ratio', 'slope_fdc', 'basefl…"
      ]
     },
     "metadata": {},
     "output_type": "display_data"
    },
    {
     "data": {
      "text/plain": [
       "<function __main__.map_maker(variable, min_fac, max_fac)>"
      ]
     },
     "execution_count": 53,
     "metadata": {},
     "output_type": "execute_result"
    }
   ],
   "source": [
    "# Make a map of a variable and adjust the upper and lower boundary of the colorscale\n",
    "\n",
    "def map_maker(variable,min_fac,max_fac):\n",
    "    plt.close()\n",
    "    \n",
    "    X = merged[variable]\n",
    "    states.boundary.plot(color='black')\n",
    "    cm=plt.get_cmap('jet') # choses color based on these options: https://matplotlib.org/stable/tutorials/colors/colormaps.html \n",
    "    sc = plt.scatter(topo.gauge_lon, topo.gauge_lat, c=X,  vmin=min(X)*min_fac, vmax=max(X)*max_fac, s=10, cmap=cm)\n",
    "    cbar = plt.colorbar(sc, shrink=0.5)\n",
    "    \n",
    "    cbar.set_label(variable, rotation=270)\n",
    "    plt.xlim(-127, -67)\n",
    "    plt.ylim(24, 50)\n",
    "    plt.show()\n",
    "\n",
    "widgets.interact(map_maker,variable = merged,\n",
    "                min_fac = (0,2,0.1), max_fac = (0,2,0.05))"
   ]
  },
  {
   "cell_type": "code",
   "execution_count": 54,
   "id": "18f5f814",
   "metadata": {},
   "outputs": [
    {
     "data": {
      "application/vnd.jupyter.widget-view+json": {
       "model_id": "24407cb5aa9f4f53990af00c7f802366",
       "version_major": 2,
       "version_minor": 0
      },
      "text/plain": [
       "interactive(children=(Dropdown(description='corr_type', options=('pearson', 'kendall', 'spearman'), value='pea…"
      ]
     },
     "metadata": {},
     "output_type": "display_data"
    },
    {
     "data": {
      "text/plain": [
       "<function __main__.correlation_overview(corr_type)>"
      ]
     },
     "execution_count": 54,
     "metadata": {},
     "output_type": "execute_result"
    }
   ],
   "source": [
    "# As a reference, we make a correlation matrix of everything against everything. \n",
    "# You can manually pick which correlation coefficient is presented in the graph\n",
    "\n",
    "def correlation_overview(corr_type):\n",
    "    corrmat = merged.corr(method= corr_type, min_periods = 1)\n",
    "    f, ax = plt.subplots(figsize =(15, 13))\n",
    "    sns.heatmap(corrmat, ax = ax, cmap =\"BrBG\", linewidths = 0.1)\n",
    "\n",
    "widgets.interact(correlation_overview, corr_type = ['pearson', 'kendall', 'spearman'])"
   ]
  },
  {
   "cell_type": "code",
   "execution_count": 49,
   "id": "01736a91",
   "metadata": {},
   "outputs": [],
   "source": [
    "#!source activate frontiers_in.yml\n",
    "#conda info --envs\n",
    "#conda env export | grep -v \"^prefix: \" > environment.yml"
   ]
  }
 ],
 "metadata": {
  "kernelspec": {
   "display_name": "Python 3 (ipykernel)",
   "language": "python",
   "name": "python3"
  },
  "language_info": {
   "codemirror_mode": {
    "name": "ipython",
    "version": 3
   },
   "file_extension": ".py",
   "mimetype": "text/x-python",
   "name": "python",
   "nbconvert_exporter": "python",
   "pygments_lexer": "ipython3",
   "version": "3.9.7"
  }
 },
 "nbformat": 4,
 "nbformat_minor": 5
}
